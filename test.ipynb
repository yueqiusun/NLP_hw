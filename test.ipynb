{
 "cells": [
  {
   "cell_type": "code",
   "execution_count": 1,
   "metadata": {},
   "outputs": [
    {
     "name": "stdout",
     "output_type": "stream",
     "text": [
      "['I', 'have', 'an', 'Apple', 'I have', 'have an', 'an Apple', 'I have an', 'have an Apple', 'I have an Apple']\n"
     ]
    }
   ],
   "source": [
    "import prep\n",
    "#test word_gram\n",
    "sent = 'I have an Apple'\n",
    "print(prep.word_grams(sent.split(' ')))"
   ]
  },
  {
   "cell_type": "code",
   "execution_count": null,
   "metadata": {
    "collapsed": true
   },
   "outputs": [],
   "source": [
    "#test read_data\n",
    "import numpy as np\n",
    "from module import *\n",
    "import prep\n",
    "\n",
    "prepath_data = './aclImdb/movie_data/'\n",
    "tp_filename = 'full_train_pos.txt'   #train_pos_filename\n",
    "tn_filename = 'full_train_neg.txt'   #train_neg_filename\n",
    "tep_filename = 'full_test_pos.txt'    #test_pos_filename\n",
    "ten_filename = 'full_test_neg.txt'    #test_neg_filename\n",
    "\n",
    "\n",
    "\n",
    "movie_train_data, movie_train_target = prep.read_data(prepath_data + tp_filename, prepath_data + tn_filename, 2)\n",
    "movie_train_data"
   ]
  },
  {
   "cell_type": "code",
   "execution_count": null,
   "metadata": {
    "collapsed": true
   },
   "outputs": [],
   "source": [
    "#test tokenize_dataset\n",
    "print (\"Tokenizing val data\")\n",
    "val_data_tokens, _ = prep.tokenize_dataset(movie_train_data)\n",
    "val_data_tokens"
   ]
  }
 ],
 "metadata": {
  "kernelspec": {
   "display_name": "Python [conda env:anaconda]",
   "language": "python",
   "name": "conda-env-anaconda-py"
  },
  "language_info": {
   "codemirror_mode": {
    "name": "ipython",
    "version": 3
   },
   "file_extension": ".py",
   "mimetype": "text/x-python",
   "name": "python",
   "nbconvert_exporter": "python",
   "pygments_lexer": "ipython3",
   "version": "3.5.3"
  }
 },
 "nbformat": 4,
 "nbformat_minor": 2
}
